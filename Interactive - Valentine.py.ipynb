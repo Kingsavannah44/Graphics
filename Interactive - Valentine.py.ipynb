{
 "cells": [
  {
   "cell_type": "markdown",
   "metadata": {},
   "source": [
    "Connected to Python 3.12.9"
   ]
  },
  {
   "cell_type": "code",
   "execution_count": 1,
   "id": "0750e4d3-9181-4820-8713-7b27a17e6555",
   "metadata": {},
   "outputs": [
    {
     "ename": "ModuleNotFoundError",
     "evalue": "No module named 'cv2'",
     "output_type": "error",
     "traceback": [
      "\u001b[1;31m---------------------------------------------------------------------------\u001b[0m",
      "\u001b[1;31mModuleNotFoundError\u001b[0m                       Traceback (most recent call last)",
      "Cell \u001b[1;32mIn[1], line 1\u001b[0m\n\u001b[1;32m----> 1\u001b[0m \u001b[38;5;28;01mimport\u001b[39;00m\u001b[38;5;250m \u001b[39m\u001b[38;5;21;01mcv2\u001b[39;00m \u001b[38;5;66;03m# type: ignore\u001b[39;00m\n\u001b[0;32m      2\u001b[0m \u001b[38;5;28;01mimport\u001b[39;00m\u001b[38;5;250m \u001b[39m\u001b[38;5;21;01mnumpy\u001b[39;00m\u001b[38;5;250m \u001b[39m\u001b[38;5;28;01mas\u001b[39;00m\u001b[38;5;250m \u001b[39m\u001b[38;5;21;01mnp\u001b[39;00m\n\u001b[0;32m      4\u001b[0m \u001b[38;5;28;01mdef\u001b[39;00m\u001b[38;5;250m \u001b[39m\u001b[38;5;21mgenerate_valentine_card\u001b[39m(name, message, image_path\u001b[38;5;241m=\u001b[39m\u001b[38;5;124m\"\u001b[39m\u001b[38;5;124mheart.png\u001b[39m\u001b[38;5;124m\"\u001b[39m):\n",
      "\u001b[1;31mModuleNotFoundError\u001b[0m: No module named 'cv2'"
     ]
    }
   ],
   "source": [
    "import cv2 # type: ignore\n",
    "import numpy as np\n",
    "\n",
    "def generate_valentine_card(name, message, image_path=\"heart.png\"):\n",
    "    \n",
    "    heart_image = cv2.imread(image_path)\n",
    "    if heart_image is None:\n",
    "        print(\"Image not found! Please check the image path.\")\n",
    "        return\n",
    "    \n",
    "    card_height, card_width, _ = heart_image.shape\n",
    "    card_height += 100\n",
    "    card = np.ones((card_height, card_width, 3), dtype=np.uint8) * 255\n",
    "    \n",
    "    card[0:heart_image.shape[0], 0:heart_image.shape[1]] = heart_image\n",
    "    \n",
    "    font = cv2.FONT_HERSHEY_SIMPLEX\n",
    "    font_scale = 0.7\n",
    "    color_name = (0, 0, 255)  # Red color in BGR\n",
    "    color_message = (255, 0, 255)  # Magenta color in BGR\n",
    "    color_closing = (255, 0, 0)  # Blue color in BGR\n",
    "    \n",
    "    name_position = (20, heart_image.shape[0] + 20)\n",
    "    message_position = (20, heart_image.shape[0] + 50)\n",
    "    closing_position = (20, heart_image.shape[0] + 80)\n",
    "    \n",
    "    cv2.putText(card, f\"Dear {name},\", name_position, font, font_scale, color_name, 2)\n",
    "    cv2.putText(card, message, message_position, font, font_scale, color_message, 2)\n",
    "    cv2.putText(card, \"With Love,\", closing_position, font, font_scale, color_closing, 2)\n",
    "    cv2.putText(card, \"Your Secret Admirer\", (closing_position[0], closing_position[1] + 30), font, font_scale, color_closing, 2)\n",
    "    \n",
    "    return card\n",
    "\n",
    "# Example usage\n",
    "name = \"Tasha\"\n",
    "message = \"Wishing you a day filled with love and happiness! Happy Valentine's Day!\"\n",
    "card = generate_valentine_card(name, message)\n",
    "if card is not None:\n",
    "    cv2.imshow(\"Valentine Card\", card)  "
   ]
  }
 ],
 "metadata": {
  "kernelspec": {
   "display_name": "Python 3",
   "language": "python",
   "name": "python3"
  },
  "language_info": {
   "codemirror_mode": {
    "name": "ipython",
    "version": 3
   },
   "file_extension": ".py",
   "mimetype": "text/x-python",
   "name": "python",
   "nbconvert_exporter": "python",
   "pygments_lexer": "ipython3",
   "version": "3.12.9"
  }
 },
 "nbformat": 4,
 "nbformat_minor": 2
}
